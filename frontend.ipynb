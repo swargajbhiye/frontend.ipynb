{
 "cells": [
  {
   "cell_type": "code",
   "execution_count": 31,
   "id": "bf59c99a-9139-4338-b2bd-20d0adfe9b9d",
   "metadata": {},
   "outputs": [],
   "source": [
    "import  tkinter as tk"
   ]
  },
  {
   "cell_type": "code",
   "execution_count": 35,
   "id": "fdcf6fb1-fc9d-4f50-85bf-b6e0d7905b1c",
   "metadata": {},
   "outputs": [],
   "source": [
    "from tkinter import messagebox"
   ]
  },
  {
   "cell_type": "code",
   "execution_count": 37,
   "id": "c17a2681-1571-49db-918b-ca5fdad319e0",
   "metadata": {},
   "outputs": [],
   "source": [
    "# create the main application window"
   ]
  },
  {
   "cell_type": "code",
   "execution_count": 41,
   "id": "13c6777d-0eaf-4ff8-95c3-26fa5b71d138",
   "metadata": {},
   "outputs": [],
   "source": [
    "root = tk.Tk()"
   ]
  },
  {
   "cell_type": "code",
   "execution_count": 63,
   "id": "200c27ff-850f-44ed-a8ef-dd1b4ff4a132",
   "metadata": {},
   "outputs": [
    {
     "data": {
      "text/plain": [
       "''"
      ]
     },
     "execution_count": 63,
     "metadata": {},
     "output_type": "execute_result"
    }
   ],
   "source": [
    "root.title(\"Greeting App\")"
   ]
  },
  {
   "cell_type": "code",
   "execution_count": 65,
   "id": "a25e45c7-3dc4-451c-94c8-e06a01374f6b",
   "metadata": {},
   "outputs": [
    {
     "data": {
      "text/plain": [
       "''"
      ]
     },
     "execution_count": 65,
     "metadata": {},
     "output_type": "execute_result"
    }
   ],
   "source": [
    "root.geometry(\"300x200\") # set the size of the window"
   ]
  },
  {
   "cell_type": "code",
   "execution_count": 67,
   "id": "b29db419-b0f0-4650-b98a-6ac4b3db2936",
   "metadata": {},
   "outputs": [],
   "source": [
    "# function tp display the Mindset \n"
   ]
  },
  {
   "cell_type": "code",
   "execution_count": 71,
   "id": "db9a4705-8466-406f-a69e-123a408e9ca8",
   "metadata": {},
   "outputs": [],
   "source": [
    "def greet():\n",
    "    name = name_entry.get()\n",
    "    if name:\n",
    "        messagebox.showinfo(\"Greeting\",f\"Hello, {name}!\")\n",
    "    else:\n",
    "        messagebox.showwarning(\"Input Error\", \"Please enter your name.\")"
   ]
  },
  {
   "cell_type": "code",
   "execution_count": 75,
   "id": "42191dd4-b505-4154-a05b-1108f8da8584",
   "metadata": {},
   "outputs": [],
   "source": [
    "# create a label\n",
    "name_label = tk.Label(root, text= \"Enter your name:\")\n",
    "name_label.pack(pady=10) # padding around the widget\n"
   ]
  },
  {
   "cell_type": "code",
   "execution_count": 81,
   "id": "d7ae1590-269c-42db-8921-b506e213e82c",
   "metadata": {},
   "outputs": [],
   "source": [
    "# create an entry box for user input\n",
    "name_entry =tk.Entry(root)\n",
    "name_entry.pack(pady=10)"
   ]
  },
  {
   "cell_type": "code",
   "execution_count": 85,
   "id": "39cb1880-6ce1-4d0a-aab0-cfc6c01a0966",
   "metadata": {},
   "outputs": [],
   "source": [
    "# create a button that triggers the great function \n",
    "greet_button =tk.Button(root, text=\"Greet\",command=greet)\n",
    "greet_button.pack(pady=10)"
   ]
  },
  {
   "cell_type": "code",
   "execution_count": 87,
   "id": "e1b638f4-2954-42df-8e2a-b610f2ee5682",
   "metadata": {},
   "outputs": [],
   "source": [
    "# start the Tkinter event loop\n",
    "root.mainloop()"
   ]
  },
  {
   "cell_type": "code",
   "execution_count": null,
   "id": "f2261069-3ea9-4872-9c8c-208ebd388e6e",
   "metadata": {},
   "outputs": [],
   "source": []
  },
  {
   "cell_type": "code",
   "execution_count": null,
   "id": "c2295214-44d5-4463-986e-adcad3c506ab",
   "metadata": {},
   "outputs": [],
   "source": []
  },
  {
   "cell_type": "code",
   "execution_count": null,
   "id": "2cb85816-ccff-4c61-b79a-eb7a56d9eba6",
   "metadata": {},
   "outputs": [],
   "source": []
  },
  {
   "cell_type": "code",
   "execution_count": null,
   "id": "4980bbe4-b2bc-408d-9625-ff63cc749fdf",
   "metadata": {},
   "outputs": [],
   "source": []
  },
  {
   "cell_type": "code",
   "execution_count": null,
   "id": "ac72c405-dcc9-4933-8cbc-aa36a77a332e",
   "metadata": {},
   "outputs": [],
   "source": []
  },
  {
   "cell_type": "code",
   "execution_count": null,
   "id": "c7db14af-b384-433b-b68c-d4018592aff5",
   "metadata": {},
   "outputs": [],
   "source": []
  },
  {
   "cell_type": "code",
   "execution_count": null,
   "id": "f66b7c48-5fb7-483b-8c72-ee9e5ebe9a02",
   "metadata": {},
   "outputs": [],
   "source": []
  },
  {
   "cell_type": "code",
   "execution_count": null,
   "id": "c6d64ae6-7b44-49b0-b9a1-dc8abcbf137d",
   "metadata": {},
   "outputs": [],
   "source": []
  },
  {
   "cell_type": "code",
   "execution_count": null,
   "id": "8659c089-e46a-457c-b1e8-e70416dc0bf6",
   "metadata": {},
   "outputs": [],
   "source": []
  },
  {
   "cell_type": "code",
   "execution_count": null,
   "id": "a29afd22-2377-4010-b32c-ef04c585d28c",
   "metadata": {},
   "outputs": [],
   "source": []
  },
  {
   "cell_type": "code",
   "execution_count": null,
   "id": "aff29185-62f1-4c35-a917-a519142ee180",
   "metadata": {},
   "outputs": [],
   "source": []
  },
  {
   "cell_type": "code",
   "execution_count": null,
   "id": "78602097-9bfb-4146-919e-888de5b43d50",
   "metadata": {},
   "outputs": [],
   "source": []
  },
  {
   "cell_type": "code",
   "execution_count": null,
   "id": "3345ff36-d369-404c-85a2-2b3254cf075d",
   "metadata": {},
   "outputs": [],
   "source": []
  },
  {
   "cell_type": "code",
   "execution_count": null,
   "id": "f157eb47-cf53-49dd-bf3b-9bf28d8f7119",
   "metadata": {},
   "outputs": [],
   "source": []
  },
  {
   "cell_type": "code",
   "execution_count": null,
   "id": "7a6bddc0-ed22-467a-959c-945641b79685",
   "metadata": {},
   "outputs": [],
   "source": []
  },
  {
   "cell_type": "code",
   "execution_count": null,
   "id": "3c994807-9862-4663-857b-e0b144b8c6ab",
   "metadata": {},
   "outputs": [],
   "source": []
  },
  {
   "cell_type": "code",
   "execution_count": null,
   "id": "8f3e3785-2495-4181-8c29-626be77f6c8e",
   "metadata": {},
   "outputs": [],
   "source": []
  },
  {
   "cell_type": "code",
   "execution_count": null,
   "id": "8d1a5da5-535a-4047-90d4-306d896b9820",
   "metadata": {},
   "outputs": [],
   "source": []
  }
 ],
 "metadata": {
  "kernelspec": {
   "display_name": "Python 3 (ipykernel)",
   "language": "python",
   "name": "python3"
  },
  "language_info": {
   "codemirror_mode": {
    "name": "ipython",
    "version": 3
   },
   "file_extension": ".py",
   "mimetype": "text/x-python",
   "name": "python",
   "nbconvert_exporter": "python",
   "pygments_lexer": "ipython3",
   "version": "3.12.4"
  }
 },
 "nbformat": 4,
 "nbformat_minor": 5
}
